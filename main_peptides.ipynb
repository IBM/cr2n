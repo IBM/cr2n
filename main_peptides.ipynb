{
 "cells": [
  {
   "cell_type": "markdown",
   "id": "0bb9088c-1309-4893-8a5b-1f1095d452c4",
   "metadata": {},
   "source": [
    "# Neural-based classification rule learning for sequential data"
   ]
  },
  {
   "cell_type": "markdown",
   "id": "39dc1851",
   "metadata": {},
   "source": [
    "## Install and Import used packages"
   ]
  },
  {
   "cell_type": "code",
   "execution_count": null,
   "id": "f4a545e9-677f-455a-9542-2cda62b9b920",
   "metadata": {},
   "outputs": [],
   "source": [
    "pip install -r requirements.txt"
   ]
  },
  {
   "cell_type": "code",
   "execution_count": null,
   "id": "5965fb59-2e99-4772-8641-d510382e837e",
   "metadata": {},
   "outputs": [],
   "source": [
    "from src.run import train, test, test_rule"
   ]
  },
  {
   "cell_type": "code",
   "execution_count": null,
   "id": "cfd6a98c-5fc8-48fe-b58a-dc7aaa3bfc2e",
   "metadata": {},
   "outputs": [],
   "source": [
    "path_checkpoint = \"peptides_checkpoint.pt\""
   ]
  },
  {
   "cell_type": "markdown",
   "id": "82f3a0ab-ed1f-4f8c-93bf-47079f902b8c",
   "metadata": {},
   "source": [
    "## Parameters"
   ]
  },
  {
   "cell_type": "markdown",
   "id": "5855f7a4-f1dd-41c8-9265-a40f7e9a9100",
   "metadata": {},
   "source": [
    "### Data"
   ]
  },
  {
   "cell_type": "code",
   "execution_count": null,
   "id": "116fa418-6db9-43e5-9194-f57e79977a24",
   "metadata": {},
   "outputs": [],
   "source": [
    "pip install requests"
   ]
  },
  {
   "cell_type": "code",
   "execution_count": null,
   "id": "4f2f493d-ca83-4efb-ad56-5a31759aca3c",
   "metadata": {},
   "outputs": [],
   "source": [
    "import pandas as pd\n",
    "import requests\n",
    "from io import BytesIO\n",
    "from zipfile import ZipFile\n",
    "import os\n",
    "\n",
    "if not os.path.exists(\"ACPs_Breast_cancer.csv\"):\n",
    "    url = 'https://archive.ics.uci.edu/ml/machine-learning-databases/00589/Anticancer_Peptides.zip'\n",
    "    r = requests.get(url)\n",
    "    z = ZipFile(BytesIO(r.content))\n",
    "    df = pd.read_csv(z.open(\"ACPs_Breast_cancer.csv\"))\n",
    "    df.to_csv(\"ACPs_Breast_cancer.csv\")\n",
    "else:\n",
    "    df = pd.read_csv(\"ACPs_Breast_cancer.csv\")\n",
    "df"
   ]
  },
  {
   "cell_type": "code",
   "execution_count": null,
   "id": "8a09c5c4-b936-472a-a72f-afafc1ff8312",
   "metadata": {},
   "outputs": [],
   "source": [
    "batch_size=100\n",
    "val_size=0.2\n",
    "test_size=0.2"
   ]
  },
  {
   "cell_type": "code",
   "execution_count": null,
   "id": "d18fcc11-fb8c-44ed-9f49-d10ea3f6eb88",
   "metadata": {},
   "outputs": [],
   "source": [
    "from src.data.datasets import UCIAnticancerDataset\n",
    "from src.data.util import construct_data\n",
    "\n",
    "dataset = UCIAnticancerDataset(df)\n",
    "train_loader, val_loader, test_loader = construct_data(dataset, batch_size=batch_size, val_size=val_size, test_size=test_size, seed=42)"
   ]
  },
  {
   "cell_type": "markdown",
   "id": "cb5c326d-97d3-46cf-bbb1-154a074c3176",
   "metadata": {},
   "source": [
    "### Model"
   ]
  },
  {
   "cell_type": "code",
   "execution_count": null,
   "id": "ff067399-0b30-4398-93fa-1bd2813e8094",
   "metadata": {},
   "outputs": [],
   "source": [
    "input_size = len(dataset.features_name)\n",
    "window_size = 3\n",
    "base_model_hidden_size = window_size * 2\n",
    "base_or_output_size=1\n",
    "output_size=1\n",
    "\n",
    "pad_border = True\n",
    "\n",
    "max_sequence_length = max(\n",
    "    train_loader.batch_sampler.max_length,\n",
    "    val_loader.batch_sampler.max_length,\n",
    "    test_loader.batch_sampler.max_length\n",
    ")\n",
    "\n",
    "# Compute dimension of convOR input size\n",
    "conv_dim_out = max_sequence_length - (window_size - 1)\n",
    "if pad_border:\n",
    "    conv_dim_out = conv_dim_out + (window_size - 1) * 2"
   ]
  },
  {
   "cell_type": "markdown",
   "id": "3cab4005-12f8-4aeb-a6e9-a86a18400fe9",
   "metadata": {},
   "source": [
    "### Training"
   ]
  },
  {
   "cell_type": "code",
   "execution_count": null,
   "id": "19892608-42dc-4322-b60f-dee019f52bea",
   "metadata": {},
   "outputs": [],
   "source": [
    "from src.sparsify import Pruning\n",
    "\n",
    "pruning = Pruning()\n",
    "pruning30 = Pruning(start=30)\n",
    "no_pruning = False"
   ]
  },
  {
   "cell_type": "code",
   "execution_count": null,
   "id": "36cab05d-5a6f-4fd1-a32d-258dfc7cbe7b",
   "metadata": {},
   "outputs": [],
   "source": [
    "pruning_strategy = pruning # or no_pruning or pruning30\n",
    "epochs = 200\n",
    "# Other parameters are fixed directly in train() function"
   ]
  },
  {
   "cell_type": "markdown",
   "id": "747a77e3-68dc-4234-acfc-7fec184f507d",
   "metadata": {},
   "source": [
    "## Run Local model"
   ]
  },
  {
   "cell_type": "code",
   "execution_count": null,
   "id": "4d05dc1a-12d9-4c65-a6b3-773ce3ad873a",
   "metadata": {
    "tags": []
   },
   "outputs": [],
   "source": [
    "from src.models import LocalModel\n",
    "\n",
    "for i in range(10):\n",
    "    local_model = LocalModel(input_size, window_size, pad_border, max_sequence_length, base_model_hidden_size, conv_dim_out, base_or_output_size, output_size)\n",
    "    train(local_model, train_loader, val_loader, pruning=pruning_strategy, epochs=epochs, path_checkpoint=path_checkpoint, verbose=True)\n",
    "    rule = local_model.extract_rule(features_names=dataset.features_name, verbose=False)\n",
    "    test(local_model.model, test_loader)\n",
    "    test_rule(rule, test_loader)\n",
    "    print('-----')"
   ]
  },
  {
   "cell_type": "markdown",
   "id": "afc18348-7d3f-40cd-b4c6-16270f5b8646",
   "metadata": {},
   "source": [
    "## Run Global Model"
   ]
  },
  {
   "cell_type": "code",
   "execution_count": null,
   "id": "e7a3c7c1-a310-494c-bc59-cbc9de2c1ba9",
   "metadata": {},
   "outputs": [],
   "source": [
    "from src.models import GlobalModel\n",
    "\n",
    "for i in range(10):\n",
    "    global_model = GlobalModel(input_size, window_size, pad_border, max_sequence_length, base_model_hidden_size, conv_dim_out, base_or_output_size, output_size)\n",
    "    train(global_model, train_loader, val_loader, pruning=pruning_strategy, epochs=epochs, path_checkpoint=path_checkpoint, verbose=True)\n",
    "    rule = global_model.extract_rule(features_names=dataset.features_name, verbose=False)\n",
    "    test(global_model.model, test_loader)\n",
    "    test_rule(rule, test_loader)\n",
    "    print('-----')"
   ]
  }
 ],
 "metadata": {
  "kernelspec": {
   "display_name": "Python [conda env:test]",
   "language": "python",
   "name": "conda-env-test-py"
  },
  "language_info": {
   "codemirror_mode": {
    "name": "ipython",
    "version": 3
   },
   "file_extension": ".py",
   "mimetype": "text/x-python",
   "name": "python",
   "nbconvert_exporter": "python",
   "pygments_lexer": "ipython3",
   "version": "3.8.16"
  },
  "toc": {
   "base_numbering": 1,
   "nav_menu": {},
   "number_sections": true,
   "sideBar": true,
   "skip_h1_title": true,
   "title_cell": "Table of Contents",
   "title_sidebar": "Contents",
   "toc_cell": true,
   "toc_position": {
    "height": "calc(100% - 180px)",
    "left": "10px",
    "top": "150px",
    "width": "216px"
   },
   "toc_section_display": true,
   "toc_window_display": true
  },
  "toc-autonumbering": true,
  "toc-showcode": false,
  "toc-showmarkdowntxt": false,
  "toc-showtags": false
 },
 "nbformat": 4,
 "nbformat_minor": 5
}
